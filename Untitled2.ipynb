{
 "cells": [
  {
   "cell_type": "code",
   "execution_count": 37,
   "id": "empty-apparatus",
   "metadata": {},
   "outputs": [
    {
     "ename": "SyntaxError",
     "evalue": "invalid syntax (<ipython-input-37-513afa4bbc9c>, line 211)",
     "output_type": "error",
     "traceback": [
      "\u001b[1;36m  File \u001b[1;32m\"<ipython-input-37-513afa4bbc9c>\"\u001b[1;36m, line \u001b[1;32m211\u001b[0m\n\u001b[1;33m    dac=dab[fire[\"user\"][\"state\"]]\u001b[0m\n\u001b[1;37m      ^\u001b[0m\n\u001b[1;31mSyntaxError\u001b[0m\u001b[1;31m:\u001b[0m invalid syntax\n"
     ]
    }
   ],
   "source": [
    "#This works fine\n",
    "import json\n",
    "import rsa\n",
    "from nested_dictionaries import NestedDictionaries as nd\n",
    "import flask\n",
    "import pymongo as pym\n",
    "from hashlib import sha256,md5\n",
    "from pyaes import AESModeOfOperationCTR\n",
    "from Crypto.Random import get_random_bytes\n",
    "from secrets import token_hex\n",
    "import time\n",
    "#EVERYTHING IS UTF-8\n",
    "\n",
    "#######################--3-Level Dictionary concater and decryptor################################################\n",
    "def gav(nested_dictionary): #concates all the values in a two nested dictionary\n",
    "  a=b\"\"\n",
    "  for key, value in nested_dictionary.items():\n",
    "    try:\n",
    "     a=a+value \n",
    "    except:\n",
    "     try:   \n",
    "      for key2 in value:\n",
    "       a=a+value[key2]\n",
    "     except:\n",
    "      for key3 in value[key2]:\n",
    "        a=a+value[key2][key3]      \n",
    "  return(a)###'a' returns the concated valye while 'b' returns the decoded dictionary \n",
    "#######################--3-Level Dictionary concater and aes decryptor################################################\n",
    "\n",
    "#########################Initialization of asserting variables##################################\n",
    "gender=[\"male\",\"female\",\"other\",\"Apache attack helicopter\"] #Add in genders here\n",
    "occupation=[\"\",\"\",\"\"]                                       #Add in occupations here\n",
    "accemails=[\"gmail\",\"yahoo\",\"rocketmail\"]                    #Add in acceptable email domains\n",
    "states=[\"Telangana\",\"Andhra Pradesh\"]\n",
    "countries=[\"India\",\"Sweden\"]\n",
    "#########################Initialization of asserting variables##################################\n",
    "\n",
    "app=flask.Flask(__name__)\n",
    "db=pym.MongoClient(\"mongodb://localhost:27017/\") # connecting to the local Mongodb\n",
    "app.config['MAX_CONTENT_LENGTH'] = 13 * 1000 * 1000\n",
    "\n",
    "@app.route('/register',methods=['POST'])\n",
    "def register(): \n",
    "    \n",
    "    try:        \n",
    "        try:\n",
    "                data=flask.request.data\n",
    "                data=flask.request.get_json() # Simply puts the JSON_data which I got into the data var\n",
    "                \n",
    "        #####################Check the content here#################################################        \n",
    "                assert int((data[\"user\"][\"age\"])) <= 120 and type(data[\"user\"][\"age\"])==str                              #Defending against stupid attacks     \n",
    "                assert data[\"user\"][\"sex\"] in gender and type(data[\"user\"][\"sex\"])==str \n",
    "                assert len(data[\"user\"][\"password\"])==19 and type(data[\"user\"][\"password\"])==str#Defending against stupid attacks\n",
    "                assert len(data[\"user\"][\"email\"])<40 and type(data[\"user\"][\"email\"])==str                                 #Defending against stupid attacks\n",
    "                assert len(data[\"user\"][\"occupation\"])<20 and type(data[\"user\"][\"occupation\"])==str                             #Defending against stupid attacks\n",
    "                assert len(data[\"user\"][\"politicalleaning\"])<15 and type(data[\"user\"][\"politicalleaning\"])==str                      #Defending against stupid attacks\n",
    "                assert len(data[\"user\"][\"supporting party\"][\"name\"])<50 and type(data[\"user\"][\"supporting party\"][\"name\"])==str              #Defending against stupid attacks\n",
    "                assert int(data[\"user\"][\"supporting party\"][\"chance\"])<=100 and type(data[\"user\"][\"supporting party\"][\"chance\"])==str            #Defending against stupid attacks \n",
    "                assert len(data[\"user\"][\"Election circles\"])<=10 and type(data[\"user\"][\"Election circles\"])==list                                   #Defending against stupid attacks\n",
    "                for i in data[\"user\"][\"Election circles\"]:assert type(i)==str\n",
    "                assert len(data[\"user\"][\"phone\"])<=10 and len(data[\"user\"][\"phone\"])>8 and type(data[\"user\"][\"phone\"])==int #Defending against stupid attacks\n",
    "                assert type(data[\"user\"][\"state\"])==str\n",
    "                assert type(data[\"user\"][\"nation\"])==str and len(data[\"user\"][\"nation\"])<=25\n",
    "                assert data[\"user\"][\"nation\"] in countries ###Change to database\n",
    "        except:\n",
    "                return {\"Error\":\"Error in assertions\"}   \n",
    "        \n",
    "        \n",
    "        \n",
    "        \n",
    "        #####################Check the content here################################################# \n",
    "        \n",
    "        #################Expected contents(Add Here to upgrade)#####################################################    \n",
    "        me=nd()\n",
    "        me[\"user\"][\"email\"]=data[\"user\"][\"email\"]                                          #1\n",
    "        me[\"user\"][\"password\"]=data[\"user\"][\"password\"]                                    #2\n",
    "        me[\"user\"][\"age\"]=data[\"user\"][\"age\"]                                              #3\n",
    "        me[\"user\"][\"sex\"]=data[\"user\"][\"sex\"]                                              #4\n",
    "        me[\"user\"][\"occupation\"]=data[\"user\"][\"occupation\"]                                #5 \n",
    "        me[\"user\"][\"Political Leaning\"]=data[\"user\"][\"politicalleaning\"]                   #6\n",
    "        me[\"user\"][\"supporting party\"][\"name\"]=data[\"user\"][\"supporting party\"][\"name\"]    #7\n",
    "        me[\"user\"][\"supporting party\"][\"chance\"]=data[\"user\"][\"supporting party\"][\"chance\"]#8\n",
    "        me[\"user\"][\"election circles\"]=data[\"user\"][\"election circles\"]                    #9\n",
    "        me[\"user\"][\"state\"]=data[\"user\"][\"state\"]                                          #10\n",
    "        me[\"user\"][\"phone\"]=data[\"user\"][\"phone\"]                                          #11\n",
    "        me[\"user\"][\"nation\"]=data[\"user\"][\"nation\"]\n",
    "        #################Expected contents(Add Here to upgrade)#####################################################          \n",
    "         \n",
    "        x=me[\"user\"][\"email\"].split(\"@\")        #Seperating the username from domain\n",
    "        x1=x[1].split(\".\")                      #seperating the domain and .\n",
    "        \n",
    "        name=x[0]                #Assingning the starting name to the name\n",
    "        edomain=x1[0]            #Assigning the domain to the domain\n",
    "        \n",
    "        assert edomain in accemails   #Hopefully he has email which is verified    \n",
    "        \n",
    "        dab=db[\"users\"]          #This is the users data database\n",
    "        dac=dab[me[\"user\"][\"state\"]]                     #This is a collection\n",
    "        dad=dac[name]                        #This is the document named by the hexdigest number\n",
    "        \n",
    "        try:\n",
    "            assert dad.find()==None          #Checking for existing users\n",
    "        except:\n",
    "            return {\"Error\":\"User already exists\"}\n",
    "        \n",
    "        dad.insert_one(me)                   #Inserts the email and password into the required collection\n",
    "        return {\"Operation Status\":\"Successful\"}\n",
    "    except:     \n",
    "       return {\"Error\":\"Check if all the contents are exact\"}  \n",
    "\n",
    "@app.route('/login',methods=['POST'])\n",
    "def tokens():\n",
    "    try:\n",
    "        data=flask.request.data\n",
    "        data=flask.request.get_json()  \n",
    "        \n",
    "        assert len(data[\"user\"][\"email\"])<40 and type(data[\"user\"][\"email\"])==str\n",
    "        assert type(data[\"user\"][\"state\"])==str and len(data[\"user\"][\"state\"])<=40\n",
    "    ###################################### Add captcha ################################################    \n",
    "    ###################################### Add captcha ###############################################   \n",
    "        x=data[\"user\"][\"email\"].split(\"@\")      #Seperating the username from domain\n",
    "        x1=x[1].split(\".\")                      #seperating the domain and .\n",
    "        name=x[0]                               #Assingning the starting name to the name\n",
    "        edomain=x1[0]                           #Assigning the domain to the domain\n",
    "         \n",
    "        \n",
    "        assert edomain in accemails             #Cheking if the email exists at all        \n",
    "        \n",
    "        tes=md5((data[\"user\"][\"password\"]).encode('utf-8'))\n",
    "        \n",
    "        \n",
    "        dab=db[\"users\"]                         #This is the database\n",
    "        dac=dab[data[\"user\"][\"state\"]]          #This is a collection\n",
    "        dad=dac[name]                           #This is the document\n",
    "        \n",
    "        fire=dad.find_one({},{\"_id\":0,\"user.password\":1,\"user.email\":1,\"user.state\":1,\"user.election circles\":1,\"user.nation\":1})                            \n",
    "      \n",
    "        if fire==None:\n",
    "            return {\"Result\":\"NO USER FOUND\"}\n",
    "        else:\n",
    "            try:\n",
    "                assert fire[\"user\"][\"password\"]==tes.hexdigest() #Fire dictionary stores the user data   \n",
    "                a=token_hex(4)\n",
    "                b=token_hex(4)\n",
    "                c=+str(a)+str(round(time.time()))+str(b)\n",
    "                \n",
    "                me=nd()\n",
    "                me[\"auth\"][\"token\"]=c                         #The token that will be linked\n",
    "                me[\"user\"][\"email\"]=fire[\"user\"][\"email\"]     #The email that will be linked\n",
    "                me[\"user\"][\"election circles\"]=fire[\"user\"][\"election circles\"] #The election circles\n",
    "                me[\"user\"][\"state\"]=fire[\"user\"][\"state\"]      #The state is stored\n",
    "                \n",
    "                dab1=db[\"Tokens\"]\n",
    "                dac1=dab1[fire[\"user\"][\"state\"]]\n",
    "                dad1=dac1[c]\n",
    "                dad1.insert_one(me)          \n",
    "\n",
    "                return {\"Token\":c,\"election circles\":fire[\"user\"][\"election circles\"],\n",
    "                       \"state\":fire[\"user\"][\"state\"],\"nation\":fire[\"user\"][\"nation\"]} \n",
    "            except:\n",
    "                return {\"Error\":\"either the database flunked or the password\"}\n",
    "    except:\n",
    "            return{\"Error\":\"Entry/database error\"}        \n",
    "        \n",
    "@app.route('/makequestion',methods=['POST'])\n",
    "def makepost():\n",
    "        data=flask.request.data\n",
    "        data=flask.request.get_json() \n",
    "        #####################Check the content here#################################################\n",
    "        try:\n",
    "            assert type(data[\"auth\"][\"token\"])==str           ###Put this in cookie\n",
    "            assert type(data[\"auth\"][\"state\"])==str           ###Put this in cookie\n",
    "            assert type(data[\"user\"][\"m_question\"])==str\n",
    "            assert type(data[\"user\"][\"d_question\"])==str\n",
    "            assert type(data[\"meta\"][\"election circles\"])==str\n",
    "            assert type(data[\"meta\"][\"tags\"])==list and len(data[\"meta\"][\"tags\"])<=4\n",
    "           ## for i in data[\"user\"][\"Election circles\"]:assert type(i)==str\n",
    "            assert type(data[\"user\"][\"nation\"])==str   \n",
    "            \n",
    "           ##Make a list for tags which keeps updating \n",
    "                \n",
    "        except:    \n",
    "            return {\"Result\":\"Stop sending random data type or injection attacks bakayaro\"}\n",
    "        #####################Check the content here#################################################\n",
    "        try:\n",
    "             ######################Veriying the token###########################################\n",
    "             dab=db[\"Tokens\"]\n",
    "             dac=dab[data[\"user\"][\"state\"]]\n",
    "             dad=dac[data[\"auth\"][\"token\"]]\n",
    "              \n",
    "             fire=dad.find_one({},{\"_id\":0,\"user.nation\":1,\"user.email\":1,\"user.state\":1,\"user.election circles\":1})                                                                                         \n",
    "             if fire==None:\n",
    "                    return {\"Error\":\"User Does not exist\"}\n",
    "           ######################Veriying the token###########################################\n",
    "             else:   \n",
    "                assert data[\"user\"][\"state\"] == fire[\"user\"][\"state\"]\n",
    "                assert data[\"user\"][\"nation\"]== fire[\"user\"][\"nation\"]\n",
    "                assert data[\"meta\"][\"election circles\"] in fire[\"user\"][\"election circles\"]\n",
    "        except:         \n",
    "                return {\"Error\":\"SHit went south\"}\n",
    "        try:        \n",
    "                me=nd()\n",
    "                me[\"q\"][\"m_question\"]=data[\"user\"][\"m_question\"]\n",
    "                me[\"q\"][\"d_question\"]=data[\"user\"][\"d_question\"]\n",
    "                me[\"q\"][\"tags\"]=data[\"meta\"][\"tags\"]\n",
    "                me[\"q\"][\"election circles\"]=data[\"meta\"][\"election circles\"]\n",
    "                me[\"q\"][\"time_stamp\"]=str(round(time.time()))\n",
    "                me[\"auth\"][\"users\"]=[fire[\"user\"][\"email\"],\"mithravishwa37@gmail.com\"]      #Add the ability to add security staff                                          \n",
    "                a=str(token_hex(2))+str(round(time.time()))+str(token_hex(2))                \n",
    "                \n",
    "                dab=db[\"Feed\"]\n",
    "                dac=dab[fire[\"user\"][\"state\"]]\n",
    "                dad=dac[a]\n",
    "                \n",
    "                dad.insert_one(me)  \n",
    "                                        \n",
    "                return {\"Result\":\"okay\"}\n",
    "        except:                       \n",
    "            return {\"error\":\"Don't know wtf went wrong\"}\n",
    "        \n",
    "@app.route('/makecomment',methods=['POST'])\n",
    "def makecomment():    \n",
    "    \n",
    "    \n",
    "    \n",
    "    \n",
    "    \n",
    "    \n",
    "    \n",
    "    \n",
    "    \n",
    "        \n",
    "\n",
    "if __name__ == '__main__':\n",
    "   app.run()"
   ]
  },
  {
   "cell_type": "code",
   "execution_count": 30,
   "id": "american-presence",
   "metadata": {},
   "outputs": [
    {
     "name": "stdout",
     "output_type": "stream",
     "text": [
      "{'sadas': 'sdasdasd', 'o my': 'lovely'}\n"
     ]
    }
   ],
   "source": [
    "a={\"sadas\":\"sdasdasd\",\"o my\":\"lovely\"}\n",
    "print(a)"
   ]
  },
  {
   "cell_type": "code",
   "execution_count": 1,
   "id": "therapeutic-cream",
   "metadata": {},
   "outputs": [],
   "source": [
    "try:\n",
    " b=\"130\"\n",
    " assert int(b)<=120\n",
    "except:\n",
    "    print(\"pikachu\")"
   ]
  },
  {
   "cell_type": "code",
   "execution_count": 4,
   "id": "needed-leadership",
   "metadata": {},
   "outputs": [
    {
     "name": "stdout",
     "output_type": "stream",
     "text": [
      "41a6fc1eb53df617a86a5a7832f3b1c64ca7110bb681b988db22941996bde93ed79e697d955decca6b57bd3fefb6000b12751cc3f5f2c0bc9ad81206ab97aac083994f609fda9e2675cc6adf02d8b3d975487de9a9fc3391f133f1c23e81d76cd244ba74ff3f10naramu idhera\n"
     ]
    }
   ],
   "source": [
    "from secrets import token_hex\n",
    "a=token_hex(53)\n",
    "b=token_hex(50)\n",
    "c=str(a)+str(b)+\"naramu idhera\"\n",
    "print(c)"
   ]
  },
  {
   "cell_type": "code",
   "execution_count": 11,
   "id": "ready-desperate",
   "metadata": {},
   "outputs": [],
   "source": [
    "a=\"roola\"\n",
    "assert len(a)<=30 and len(a)>2"
   ]
  },
  {
   "cell_type": "code",
   "execution_count": 19,
   "id": "through-produce",
   "metadata": {},
   "outputs": [
    {
     "name": "stdout",
     "output_type": "stream",
     "text": [
      " * Serving Flask app \"__main__\" (lazy loading)\n",
      " * Environment: production\n",
      "   WARNING: This is a development server. Do not use it in a production deployment.\n",
      "   Use a production WSGI server instead.\n",
      " * Debug mode: off\n"
     ]
    },
    {
     "name": "stderr",
     "output_type": "stream",
     "text": [
      " * Running on http://127.0.0.1:5000/ (Press CTRL+C to quit)\n",
      "127.0.0.1 - - [10/Jun/2021 15:00:36] \"\u001b[37mGET /rollringa HTTP/1.1\u001b[0m\" 200 -\n",
      "127.0.0.1 - - [10/Jun/2021 15:00:37] \"\u001b[31m\u001b[1mGET /rollringa HTTP/1.1\u001b[0m\" 405 -\n",
      "127.0.0.1 - - [10/Jun/2021 15:00:39] \"\u001b[31m\u001b[1mGET /rollringa HTTP/1.1\u001b[0m\" 405 -\n",
      "127.0.0.1 - - [10/Jun/2021 15:00:40] \"\u001b[31m\u001b[1mGET /rollringa HTTP/1.1\u001b[0m\" 405 -\n"
     ]
    }
   ],
   "source": [
    "import flask\n",
    "from nested_dictionaries import NestedDictionaries as nd\n",
    "from secrets import token_hex\n",
    "\n",
    "app=flask.Flask(__name__)\n",
    "\n",
    "@app.route('/')\n",
    "def index():\n",
    "    token = flask.request.cookies.get('token')\n",
    "    # use cookies.get(key) instead of cookies[key] to not get a\n",
    "    # KeyError if the cookie is missing.\n",
    "    return \"This is your token:\"+token\n",
    "\n",
    "    \n",
    "@app.route('/rollringa',methods=[\"POST\"])\n",
    "def sss():\n",
    "    resp = flask.make_response('')\n",
    "    a=token_hex(53)\n",
    "    b=token_hex(50)\n",
    "    c=str(a)+str(b)+\"naramu idhera\"\n",
    "    resp.set_cookie('token',c)\n",
    "    return resp\n",
    "\n",
    "if __name__ == '__main__':\n",
    "   app.run()\n",
    "\n",
    "\n",
    "####SET YOUR COOKIES IN THE FRONT END BAKAYARO#####################################################"
   ]
  },
  {
   "cell_type": "code",
   "execution_count": 31,
   "id": "active-northeast",
   "metadata": {},
   "outputs": [
    {
     "ename": "AttributeError",
     "evalue": "'builtin_function_or_method' object has no attribute 'time'",
     "output_type": "error",
     "traceback": [
      "\u001b[1;31m---------------------------------------------------------------------------\u001b[0m",
      "\u001b[1;31mAttributeError\u001b[0m                            Traceback (most recent call last)",
      "\u001b[1;32m<ipython-input-31-f0392c5cccb0>\u001b[0m in \u001b[0;36m<module>\u001b[1;34m\u001b[0m\n\u001b[0;32m      1\u001b[0m \u001b[1;32mfrom\u001b[0m \u001b[0mtime\u001b[0m \u001b[1;32mimport\u001b[0m \u001b[0mtime\u001b[0m\u001b[1;33m\u001b[0m\u001b[0m\n\u001b[1;32m----> 2\u001b[1;33m \u001b[0mstr\u001b[0m\u001b[1;33m(\u001b[0m\u001b[0mround\u001b[0m\u001b[1;33m(\u001b[0m\u001b[0mtime\u001b[0m\u001b[1;33m.\u001b[0m\u001b[0mtime\u001b[0m\u001b[1;33m(\u001b[0m\u001b[1;33m)\u001b[0m\u001b[1;33m)\u001b[0m\u001b[1;33m)\u001b[0m\u001b[1;33m\u001b[0m\u001b[0m\n\u001b[0m",
      "\u001b[1;31mAttributeError\u001b[0m: 'builtin_function_or_method' object has no attribute 'time'"
     ]
    }
   ],
   "source": [
    "import time\n",
    "str(round(time.time()))"
   ]
  },
  {
   "cell_type": "code",
   "execution_count": null,
   "id": "veterinary-warrior",
   "metadata": {},
   "outputs": [
    {
     "name": "stdout",
     "output_type": "stream",
     "text": [
      " * Serving Flask app \"__main__\" (lazy loading)\n",
      " * Environment: production\n",
      "   WARNING: This is a development server. Do not use it in a production deployment.\n",
      "   Use a production WSGI server instead.\n",
      " * Debug mode: off\n"
     ]
    },
    {
     "name": "stderr",
     "output_type": "stream",
     "text": [
      " * Running on http://127.0.0.1:5000/ (Press CTRL+C to quit)\n",
      "127.0.0.1 - - [14/Jun/2021 08:49:03] \"\u001b[31m\u001b[1mPOST /safe HTTP/1.1\u001b[0m\" 413 -\n",
      "127.0.0.1 - - [14/Jun/2021 08:49:17] \"\u001b[37mPOST /safe HTTP/1.1\u001b[0m\" 200 -\n",
      "127.0.0.1 - - [14/Jun/2021 08:49:23] \"\u001b[31m\u001b[1mPOST /safe HTTP/1.1\u001b[0m\" 413 -\n",
      "127.0.0.1 - - [14/Jun/2021 08:49:48] \"\u001b[37mPOST /unsafe HTTP/1.1\u001b[0m\" 200 -\n",
      "127.0.0.1 - - [14/Jun/2021 08:49:57] \"\u001b[31m\u001b[1mPOST /safe HTTP/1.1\u001b[0m\" 413 -\n"
     ]
    }
   ],
   "source": [
    "from flask import Flask, request\n",
    "from flask_limiter import Limiter\n",
    "import psutil\n",
    "from flask_limiter.util import get_remote_address\n",
    "\n",
    "app = Flask(__name__)\n",
    "app.config['MAX_CONTENT_LENGTH'] = 0.5 * 1000 * 1000\n",
    "limiter = Limiter(\n",
    "    app,\n",
    "    key_func=get_remote_address,\n",
    "    default_limits=[\"200 per day\", \"50 per hour\"]\n",
    ")\n",
    "\n",
    "@app.route('/mem')\n",
    "@limiter.limit(\"5 per day\")\n",
    "def mem():\n",
    "  return str(psutil.virtual_memory()[2])\n",
    "\n",
    "@app.route('/unsafe', methods=['POST'])\n",
    "def unsafe():\n",
    "  j = request.get_json()\n",
    "  return {\"result\": psutil.virtual_memory()[2],\"status\":\"ok\"}\n",
    "\n",
    "@app.route('/safe', methods=['POST'])\n",
    "def safe():\n",
    "  j = request.data\n",
    "  j = request.get_json()\n",
    "\n",
    "  return {\"result\": psutil.virtual_memory()[2],\"status\":\"ok\"}\n",
    "\n",
    "if __name__ == '__main__':\n",
    "  app.run()"
   ]
  },
  {
   "cell_type": "code",
   "execution_count": 2,
   "id": "further-chile",
   "metadata": {},
   "outputs": [
    {
     "name": "stdout",
     "output_type": "stream",
     "text": [
      " * Serving Flask app \"__main__\" (lazy loading)\n",
      " * Environment: production\n",
      "   WARNING: This is a development server. Do not use it in a production deployment.\n",
      "   Use a production WSGI server instead.\n",
      " * Debug mode: off\n"
     ]
    },
    {
     "name": "stderr",
     "output_type": "stream",
     "text": [
      " * Running on http://127.0.0.1:5000/ (Press CTRL+C to quit)\n"
     ]
    }
   ],
   "source": [
    "from flask import Flask, request\n",
    "from flask_limiter import Limiter\n",
    "import psutil\n",
    "from flask_limiter.util import get_remote_address\n",
    "\n",
    "app = Flask(__name__)\n",
    "\n",
    "@app.route('/mem')\n",
    "def mem():\n",
    "  return \"<h1>\"+str(psutil.virtual_memory()[2])+\"</h1>\"\n",
    "\n",
    "\n",
    "if __name__ == '__main__':\n",
    "  app.run()"
   ]
  },
  {
   "cell_type": "code",
   "execution_count": 17,
   "id": "willing-project",
   "metadata": {},
   "outputs": [
    {
     "ename": "TypeError",
     "evalue": "object of type 'int' has no len()",
     "output_type": "error",
     "traceback": [
      "\u001b[1;31m---------------------------------------------------------------------------\u001b[0m",
      "\u001b[1;31mTypeError\u001b[0m                                 Traceback (most recent call last)",
      "\u001b[1;32m<ipython-input-17-b4acdfc01534>\u001b[0m in \u001b[0;36m<module>\u001b[1;34m\u001b[0m\n\u001b[0;32m      1\u001b[0m \u001b[0ma\u001b[0m\u001b[1;33m=\u001b[0m\u001b[1;33m{\u001b[0m\u001b[1;34m\"apple\"\u001b[0m\u001b[1;33m:\u001b[0m\u001b[1;33m{\u001b[0m\u001b[1;34m\"bananas\"\u001b[0m\u001b[1;33m:\u001b[0m\u001b[1;34m\"CHocolates\"\u001b[0m\u001b[1;33m}\u001b[0m\u001b[1;33m}\u001b[0m\u001b[1;33m\u001b[0m\u001b[0m\n\u001b[0;32m      2\u001b[0m \u001b[0mb\u001b[0m\u001b[1;33m=\u001b[0m\u001b[1;36m5321556\u001b[0m\u001b[1;33m\u001b[0m\u001b[0m\n\u001b[1;32m----> 3\u001b[1;33m \u001b[0mprint\u001b[0m\u001b[1;33m(\u001b[0m\u001b[0mlen\u001b[0m\u001b[1;33m(\u001b[0m\u001b[0mb\u001b[0m\u001b[1;33m)\u001b[0m\u001b[1;33m)\u001b[0m\u001b[1;33m\u001b[0m\u001b[0m\n\u001b[0m\u001b[0;32m      4\u001b[0m \u001b[0mprint\u001b[0m \u001b[1;33m(\u001b[0m\u001b[0mint\u001b[0m\u001b[1;33m(\u001b[0m\u001b[0ma\u001b[0m\u001b[1;33m[\u001b[0m\u001b[1;34m\"apple\"\u001b[0m\u001b[1;33m]\u001b[0m\u001b[1;33m)\u001b[0m\u001b[1;33m)\u001b[0m\u001b[1;33m\u001b[0m\u001b[0m\n",
      "\u001b[1;31mTypeError\u001b[0m: object of type 'int' has no len()"
     ]
    }
   ],
   "source": [
    "a={\"apple\":{\"bananas\":\"CHocolates\"}}\n",
    "b=5321556\n",
    "print(len(b))\n",
    "print (int(a[\"apple\"]))"
   ]
  },
  {
   "cell_type": "code",
   "execution_count": 3,
   "id": "buried-english",
   "metadata": {},
   "outputs": [
    {
     "data": {
      "text/plain": [
       "1624580268"
      ]
     },
     "execution_count": 3,
     "metadata": {},
     "output_type": "execute_result"
    }
   ],
   "source": [
    "import time\n",
    "round(time.time())"
   ]
  },
  {
   "cell_type": "code",
   "execution_count": 22,
   "id": "compound-paradise",
   "metadata": {},
   "outputs": [
    {
     "ename": "AssertionError",
     "evalue": "",
     "output_type": "error",
     "traceback": [
      "\u001b[1;31m---------------------------------------------------------------------------\u001b[0m",
      "\u001b[1;31mAssertionError\u001b[0m                            Traceback (most recent call last)",
      "\u001b[1;32m<ipython-input-22-05b092147175>\u001b[0m in \u001b[0;36m<module>\u001b[1;34m\u001b[0m\n\u001b[0;32m      1\u001b[0m \u001b[0ma\u001b[0m\u001b[1;33m=\u001b[0m\u001b[1;33m[\u001b[0m\u001b[1;34m\"sdsad\"\u001b[0m\u001b[1;33m,\u001b[0m\u001b[1;34m\"vishwaksen\"\u001b[0m\u001b[1;33m,\u001b[0m\u001b[1;36m5653\u001b[0m\u001b[1;33m]\u001b[0m\u001b[1;33m\u001b[0m\u001b[0m\n\u001b[1;32m----> 2\u001b[1;33m \u001b[1;32mfor\u001b[0m \u001b[0mi\u001b[0m \u001b[1;32min\u001b[0m \u001b[0ma\u001b[0m\u001b[1;33m:\u001b[0m\u001b[1;32massert\u001b[0m \u001b[0mtype\u001b[0m\u001b[1;33m(\u001b[0m\u001b[0mi\u001b[0m\u001b[1;33m)\u001b[0m\u001b[1;33m==\u001b[0m\u001b[0mstr\u001b[0m\u001b[1;33m\u001b[0m\u001b[0m\n\u001b[0m",
      "\u001b[1;31mAssertionError\u001b[0m: "
     ]
    }
   ],
   "source": [
    "a=[\"sdsad\",\"vishwaksen\"]\n"
   ]
  },
  {
   "cell_type": "code",
   "execution_count": 27,
   "id": "global-moldova",
   "metadata": {},
   "outputs": [
    {
     "name": "stdout",
     "output_type": "stream",
     "text": [
      "2944\n"
     ]
    }
   ],
   "source": [
    "a=32;b=92;c=a*b;print(c)"
   ]
  },
  {
   "cell_type": "code",
   "execution_count": 33,
   "id": "representative-underwear",
   "metadata": {},
   "outputs": [],
   "source": [
    "while False:\n",
    "    print(\"3\")"
   ]
  },
  {
   "cell_type": "code",
   "execution_count": null,
   "id": "prostate-afternoon",
   "metadata": {},
   "outputs": [],
   "source": []
  }
 ],
 "metadata": {
  "kernelspec": {
   "display_name": "Python 3",
   "language": "python",
   "name": "python3"
  },
  "language_info": {
   "codemirror_mode": {
    "name": "ipython",
    "version": 3
   },
   "file_extension": ".py",
   "mimetype": "text/x-python",
   "name": "python",
   "nbconvert_exporter": "python",
   "pygments_lexer": "ipython3",
   "version": "3.7.0"
  }
 },
 "nbformat": 4,
 "nbformat_minor": 5
}
