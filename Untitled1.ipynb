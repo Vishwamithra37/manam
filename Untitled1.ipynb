{
 "cells": [
  {
   "cell_type": "code",
   "execution_count": 86,
   "id": "global-mention",
   "metadata": {},
   "outputs": [
    {
     "ename": "NameError",
     "evalue": "name 'Flask' is not defined",
     "output_type": "error",
     "traceback": [
      "\u001b[1;31m---------------------------------------------------------------------------\u001b[0m",
      "\u001b[1;31mNameError\u001b[0m                                 Traceback (most recent call last)",
      "\u001b[1;32m<ipython-input-86-744628652501>\u001b[0m in \u001b[0;36m<module>\u001b[1;34m\u001b[0m\n\u001b[0;32m      9\u001b[0m \u001b[1;31m#privkeyreader\u001b[0m\u001b[1;33m\u001b[0m\u001b[1;33m\u001b[0m\u001b[0m\n\u001b[0;32m     10\u001b[0m \u001b[1;33m\u001b[0m\u001b[0m\n\u001b[1;32m---> 11\u001b[1;33m \u001b[0mapp\u001b[0m\u001b[1;33m=\u001b[0m\u001b[0mFlask\u001b[0m\u001b[1;33m(\u001b[0m\u001b[0m__name__\u001b[0m\u001b[1;33m)\u001b[0m\u001b[1;33m\u001b[0m\u001b[0m\n\u001b[0m\u001b[0;32m     12\u001b[0m \u001b[0mdb\u001b[0m\u001b[1;33m=\u001b[0m\u001b[0mpym\u001b[0m\u001b[1;33m.\u001b[0m\u001b[0mMongoClient\u001b[0m\u001b[1;33m(\u001b[0m\u001b[1;34m\"mongodb://localhost:27017/\"\u001b[0m\u001b[1;33m)\u001b[0m \u001b[1;31m# connecting to the local database\u001b[0m\u001b[1;33m\u001b[0m\u001b[0m\n\u001b[0;32m     13\u001b[0m \u001b[1;33m\u001b[0m\u001b[0m\n",
      "\u001b[1;31mNameError\u001b[0m: name 'Flask' is not defined"
     ]
    }
   ],
   "source": [
    "#This works fineeee\n",
    "import json\n",
    "import rsa\n",
    "from nested_dictionaries import NestedDictionaries as nd\n",
    "import flask\n",
    "import pymongo as pym\n",
    "from su.aes import encrypt, decrypt\n",
    "#EVERYTHING IS UTF-8\n",
    "#privkeyreader\n",
    "\n",
    "app=Flask(__name__)\n",
    "db=pym.MongoClient(\"mongodb://localhost:27017/\") # connecting to the local database\n",
    "\n",
    "@app.route('/register',methods=['POST'])\n",
    "def register(): \n",
    "    \n",
    "    data=flask.request.get_json() # Simply puts the JSON_data which I got into the data var\n",
    "    \n",
    "    for key in data:\n",
    "        data1=decryptorinator(data[key])\n",
    "    \n",
    "    \n",
    "    email=data[\"user\"][\"email\"]\n",
    "    passwd=data[\"user\"][\"password\"]\n",
    "    \n",
    "    #here is a missing validation block\n",
    "    #Here is a missing decryption block\n",
    "\n",
    "    \n",
    "    me=nd()\n",
    "    me[\"user\"][\"email\"]=email\n",
    "    me[\"user\"][\"password\"]=passwd\n",
    "    me[\"user_info\"][\"age\"]=age\n",
    "    me[\"user_info\"][\"gender\"]=gender\n",
    "    me[\"user_info\"][\"occupation\"]=occupation\n",
    "    me[\"user_info\"][\"other_information\"]=other_information\n",
    "    me[\"user_info\"][\"Political_affliation\"]=political_aff\n",
    "\n",
    "    \n",
    "    x=email.split(\"@\")        #Seperating the username from domain\n",
    "    x1=x[1].split(\".\")        #seperating the domain and .\n",
    "    \n",
    "    name=x[0]\n",
    "    edomain=x1[0]      \n",
    "\n",
    "    dab=db[\"user_data\"]   #This is the database\n",
    "    dac=dab[edomain]      #This is a collection\n",
    "    dad=dac[name]         #This is the document\n",
    "    dab.dac.dad.insert_onen(me)    #Inserts the email and password into the required collection\n",
    "    \n",
    "    return \n",
    "\n",
    "@app.route('/tokens',methods=['POST'])\n",
    "\n",
    "def tokens():\n",
    "    \n",
    "    \n",
    "    return\n",
    "    \n",
    "if __name__ == '__main__':\n",
    "   app.run()"
   ]
  },
  {
   "cell_type": "code",
   "execution_count": 229,
   "id": "failing-relative",
   "metadata": {},
   "outputs": [
    {
     "name": "stdout",
     "output_type": "stream",
     "text": [
      "{'a2': b' is dangerous', 'a3': b' Buushmanda'}\n",
      "b' is dangerous'\n",
      "b' Buushmanda'\n",
      "dd6796c2b8a0393b9504c9f66306628e4b84f54cc7a6721343c8808b4837e3af\n",
      "{'a2': b' is dangerous', 'a3': b' Buushmanda'}\n"
     ]
    }
   ],
   "source": [
    "from nested_dictionaries import NestedDictionaries as nd\n",
    "from hashlib import sha256 as sh256\n",
    "data={\"a1\":\"athma\".encode(\"utf-8\"),\"a2\":\" is dangerous\".encode(\"utf-8\"),\"a3\":\" Buushmanda\".encode(\"utf-8\")}                       \n",
    "data1=nd()\n",
    "data2=data\n",
    "datohash=\"\".encode(\"utf-8\")\n",
    "del data2['a1']\n",
    "print(data)\n",
    "for oola in data:\n",
    "        data1=data[oola]\n",
    "        print(data1)\n",
    "        datohash=datohash+data1\n",
    "r=b\"65165165asdasdasdasd\"\n",
    "a=sh256(r) \n",
    "print(a.hexdigest())\n",
    "print(data2)\n",
    "      "
   ]
  },
  {
   "cell_type": "code",
   "execution_count": 43,
   "id": "federal-sauce",
   "metadata": {},
   "outputs": [
    {
     "ename": "UnicodeDecodeError",
     "evalue": "'utf-8' codec can't decode byte 0xf9 in position 2: invalid start byte",
     "output_type": "error",
     "traceback": [
      "\u001b[1;31m---------------------------------------------------------------------------\u001b[0m",
      "\u001b[1;31mUnicodeDecodeError\u001b[0m                        Traceback (most recent call last)",
      "\u001b[1;32m<ipython-input-43-d42a93a961c6>\u001b[0m in \u001b[0;36m<module>\u001b[1;34m\u001b[0m\n\u001b[0;32m      6\u001b[0m \u001b[0mdata\u001b[0m \u001b[1;33m=\u001b[0m \u001b[1;34mb\"Hello, world!\"\u001b[0m\u001b[1;33m\u001b[0m\u001b[0m\n\u001b[0;32m      7\u001b[0m \u001b[0mciphertext\u001b[0m\u001b[1;33m,\u001b[0m \u001b[0miv\u001b[0m \u001b[1;33m=\u001b[0m \u001b[0msslcrypto\u001b[0m\u001b[1;33m.\u001b[0m\u001b[0maes\u001b[0m\u001b[1;33m.\u001b[0m\u001b[0mencrypt\u001b[0m\u001b[1;33m(\u001b[0m\u001b[0mdata\u001b[0m\u001b[1;33m,\u001b[0m \u001b[0mkey\u001b[0m\u001b[1;33m)\u001b[0m\u001b[1;33m\u001b[0m\u001b[0m\n\u001b[1;32m----> 8\u001b[1;33m \u001b[0mprint\u001b[0m\u001b[1;33m(\u001b[0m\u001b[0mkey\u001b[0m\u001b[1;33m.\u001b[0m\u001b[0mdecode\u001b[0m\u001b[1;33m(\u001b[0m\u001b[1;33m)\u001b[0m\u001b[1;33m)\u001b[0m\u001b[1;33m\u001b[0m\u001b[0m\n\u001b[0m\u001b[0;32m      9\u001b[0m \u001b[1;33m\u001b[0m\u001b[0m\n\u001b[0;32m     10\u001b[0m \u001b[0mdata2\u001b[0m\u001b[1;33m=\u001b[0m\u001b[0msslcrypto\u001b[0m\u001b[1;33m.\u001b[0m\u001b[0maes\u001b[0m\u001b[1;33m.\u001b[0m\u001b[0mdecrypt\u001b[0m\u001b[1;33m(\u001b[0m\u001b[0mciphertext\u001b[0m\u001b[1;33m,\u001b[0m \u001b[0miv\u001b[0m\u001b[1;33m,\u001b[0m\u001b[0mkey\u001b[0m\u001b[1;33m)\u001b[0m\u001b[1;33m\u001b[0m\u001b[0m\n",
      "\u001b[1;31mUnicodeDecodeError\u001b[0m: 'utf-8' codec can't decode byte 0xf9 in position 2: invalid start byte"
     ]
    }
   ],
   "source": [
    "from sslcrypto import aes\n",
    "# Generate random key\n",
    "key = sslcrypto.aes.new_key()\n",
    "iv=2585416984\n",
    "# Encrypt something\n",
    "data = b\"Hello, world!\"\n",
    "ciphertext, iv = sslcrypto.aes.encrypt(data, key)\n",
    "print(key)\n",
    "\n",
    "data2=sslcrypto.aes.decrypt(ciphertext, iv,key)\n",
    "print(data2.decode('utf-8'))\n"
   ]
  },
  {
   "cell_type": "code",
   "execution_count": 85,
   "id": "vulnerable-comfort",
   "metadata": {},
   "outputs": [
    {
     "name": "stdout",
     "output_type": "stream",
     "text": [
      "ola\n"
     ]
    }
   ],
   "source": [
    "try:\n",
    " assert 1==1\n",
    " print(\"ola\")\n",
    "except:\n",
    "    print(\"biscuit\")\n"
   ]
  },
  {
   "cell_type": "code",
   "execution_count": 126,
   "id": "massive-fundamental",
   "metadata": {},
   "outputs": [
    {
     "ename": "TypeError",
     "evalue": "'dict' object is not callable",
     "output_type": "error",
     "traceback": [
      "\u001b[1;31m---------------------------------------------------------------------------\u001b[0m",
      "\u001b[1;31mTypeError\u001b[0m                                 Traceback (most recent call last)",
      "\u001b[1;32m<ipython-input-126-dc43af107546>\u001b[0m in \u001b[0;36m<module>\u001b[1;34m\u001b[0m\n\u001b[0;32m     15\u001b[0m                     \"gudkara\":{\"Holo\":\"baala\".encode(\"utf-8\"),\"Gaala\":\"sdsdsd\".encode(\"utf-8\")}}\n\u001b[0;32m     16\u001b[0m \u001b[0ma\u001b[0m\u001b[1;33m=\u001b[0m\u001b[1;34m\"\"\u001b[0m\u001b[1;33m.\u001b[0m\u001b[0mencode\u001b[0m\u001b[1;33m(\u001b[0m\u001b[1;34m\"utf-8\"\u001b[0m\u001b[1;33m)\u001b[0m\u001b[1;33m\u001b[0m\u001b[0m\n\u001b[1;32m---> 17\u001b[1;33m \u001b[0mc\u001b[0m\u001b[1;33m=\u001b[0m\u001b[0mget_all_values\u001b[0m\u001b[1;33m(\u001b[0m\u001b[0mnested_dictionary\u001b[0m\u001b[1;33m)\u001b[0m\u001b[1;33m\u001b[0m\u001b[0m\n\u001b[0m\u001b[0;32m     18\u001b[0m \u001b[0mprint\u001b[0m\u001b[1;33m(\u001b[0m\u001b[0mc\u001b[0m\u001b[1;33m)\u001b[0m\u001b[1;33m\u001b[0m\u001b[0m\n",
      "\u001b[1;32m<ipython-input-126-dc43af107546>\u001b[0m in \u001b[0;36mget_all_values\u001b[1;34m(nested_dictionary)\u001b[0m\n\u001b[0;32m      4\u001b[0m      \u001b[1;32mif\u001b[0m \u001b[0mtype\u001b[0m\u001b[1;33m(\u001b[0m\u001b[0mvalue\u001b[0m\u001b[1;33m)\u001b[0m\u001b[1;33m==\u001b[0m\u001b[0mdict\u001b[0m\u001b[1;33m:\u001b[0m\u001b[1;33m\u001b[0m\u001b[0m\n\u001b[0;32m      5\u001b[0m        \u001b[1;32mfor\u001b[0m \u001b[0mvalv\u001b[0m \u001b[1;32min\u001b[0m \u001b[0mvalue\u001b[0m\u001b[1;33m:\u001b[0m\u001b[1;33m\u001b[0m\u001b[0m\n\u001b[1;32m----> 6\u001b[1;33m         \u001b[0ma\u001b[0m\u001b[1;33m=\u001b[0m\u001b[0ma\u001b[0m\u001b[1;33m+\u001b[0m\u001b[0mvalue\u001b[0m\u001b[1;33m(\u001b[0m\u001b[0mvalv\u001b[0m\u001b[1;33m)\u001b[0m\u001b[1;33m\u001b[0m\u001b[0m\n\u001b[0m\u001b[0;32m      7\u001b[0m      \u001b[1;32melse\u001b[0m\u001b[1;33m:\u001b[0m\u001b[1;33m\u001b[0m\u001b[0m\n\u001b[0;32m      8\u001b[0m         \u001b[0ma\u001b[0m\u001b[1;33m=\u001b[0m\u001b[0ma\u001b[0m\u001b[1;33m+\u001b[0m\u001b[0mvalue\u001b[0m\u001b[1;33m\u001b[0m\u001b[0m\n",
      "\u001b[1;31mTypeError\u001b[0m: 'dict' object is not callable"
     ]
    }
   ],
   "source": [
    "def get_all_values(nested_dictionary):\n",
    "    a=b\"\"\n",
    "    for key, value in nested_dictionary.items():\n",
    "     if type(value)==dict:\n",
    "       for valv in value:\n",
    "        a=a+value(valv)\n",
    "     else:\n",
    "        a=a+value\n",
    "    print(a)\n",
    "       \n",
    "            \n",
    "\n",
    "nested_dictionary = {\"a1\":\"athma\".encode(\"utf-8\"),\"a2\":\" is dangerous\".encode(\"utf-8\"),\"a3\":\" Buushmanda\".encode(\"utf-8\"),\n",
    "                    \"gudkara\":{\"Holo\":\"baala\".encode(\"utf-8\"),\"Gaala\":\"sdsdsd\".encode(\"utf-8\")}}\n",
    "a=\"\".encode(\"utf-8\")\n",
    "c=get_all_values(nested_dictionary)\n",
    "print(c)\n"
   ]
  },
  {
   "cell_type": "code",
   "execution_count": 41,
   "id": "copyrighted-turkish",
   "metadata": {},
   "outputs": [
    {
     "name": "stdout",
     "output_type": "stream",
     "text": [
      "b'athma is dangerous Buushmanda red bloodcells baalasdsdsd red bloodcells'\n",
      "{'a1': b'athma',\n",
      " 'a2': b' is dangerous',\n",
      " 'a3': b' Buushmanda',\n",
      " 'a4': {'Blood': b' red Dengipoyindhi', 'White': b' bloodcells Dengipoyindhi'},\n",
      " 'gudkara': {'Gaala': b'sdsdsd Dengipoyindhi',\n",
      "             'Holo': b' baala Dengipoyindhi',\n",
      "             'reddit': {'Blood': b' red', 'White': b' bloodcells'}}}\n"
     ]
    }
   ],
   "source": [
    "from nested_dictionaries import NestedDictionaries as nd\n",
    "from pprint import pprint\n",
    "def gav(nested_dictionary): #concates all the values in a two nested dictionary\n",
    "  a=b\"\"\n",
    "  b=nd()\n",
    "  for key, value in nested_dictionary.items():\n",
    "    try:\n",
    "     a=a+value  \n",
    "     b[key]=value\n",
    "    except:\n",
    "     try:   \n",
    "      for key2 in value:\n",
    "       a=a+value[key2]\n",
    "       b[key][key2]=value[key2]+b\" Dengipoyindhi\"\n",
    "     except:\n",
    "      for key3 in value[key2]:\n",
    "        a=a+value[key2][key3]\n",
    "        b[key][key2][key3]=value[key2][key3]\n",
    "        \n",
    "    \n",
    "    \n",
    "  return(a,b)     \n",
    "    \n",
    "    \n",
    "nested_dictionary = {\"a1\":\"athma\".encode(\"utf-8\"),\"a2\":\" is dangerous\".encode(\"utf-8\"),\"a3\":\" Buushmanda\".encode(\"utf-8\"),\n",
    "                    \"a4\":{\"Blood\":\" red\".encode(\"utf-8\"),\"White\":\" bloodcells\".encode(\"utf-8\")\n",
    "                    },\"gudkara\":{\"Holo\":\" baala\".encode(\"utf-8\"),\"Gaala\":\"sdsdsd\".encode(\"utf-8\"),\"reddit\":{\n",
    "                        \"Blood\":\" red\".encode(\"utf-8\"),\"White\":\" bloodcells\".encode(\"utf-8\")\n",
    "                    }}}    \n",
    "\n",
    "a,b=(gav(nested_dictionary))\n",
    "print(a)\n",
    "pprint(b)"
   ]
  },
  {
   "cell_type": "code",
   "execution_count": 215,
   "id": "mechanical-intervention",
   "metadata": {},
   "outputs": [
    {
     "ename": "NameError",
     "evalue": "name 'nested_dictionary' is not defined",
     "output_type": "error",
     "traceback": [
      "\u001b[1;31m---------------------------------------------------------------------------\u001b[0m",
      "\u001b[1;31mNameError\u001b[0m                                 Traceback (most recent call last)",
      "\u001b[1;32m<ipython-input-215-ecde02079ddf>\u001b[0m in \u001b[0;36m<module>\u001b[1;34m\u001b[0m\n\u001b[0;32m      2\u001b[0m                     \"gudkara\":{\"Holo\":\"baala\".encode(\"utf-8\"),\"Gaala\":\"sdsdsd\".encode(\"utf-8\")}}\n\u001b[0;32m      3\u001b[0m \u001b[1;32mdel\u001b[0m \u001b[0mnested_dictionary\u001b[0m\u001b[1;33m\u001b[0m\u001b[0m\n\u001b[1;32m----> 4\u001b[1;33m \u001b[0mprint\u001b[0m \u001b[1;33m(\u001b[0m\u001b[0mnested_dictionary\u001b[0m\u001b[1;33m)\u001b[0m\u001b[1;33m\u001b[0m\u001b[0m\n\u001b[0m\u001b[0;32m      5\u001b[0m \u001b[1;33m\u001b[0m\u001b[0m\n",
      "\u001b[1;31mNameError\u001b[0m: name 'nested_dictionary' is not defined"
     ]
    }
   ],
   "source": [
    "\n",
    "       \n",
    "            \n",
    "\n",
    "nested_dictionary = {\"a1\":\"athma\".encode(\"utf-8\"),\"a2\":\" is dangerous\".encode(\"utf-8\"),\"a3\":\" Buushmanda\".encode(\"utf-8\"),\n",
    "                    \"gudkara\":{\"Holo\":\"baala\".encode(\"utf-8\"),\"Gaala\":\"sdsdsd\".encode(\"utf-8\")}}\n",
    "del nested_dictionary\n",
    "print (nested_dictionary)\n",
    "    "
   ]
  },
  {
   "cell_type": "code",
   "execution_count": 147,
   "id": "pleased-driver",
   "metadata": {},
   "outputs": [
    {
     "name": "stdout",
     "output_type": "stream",
     "text": [
      "No chocolate\n"
     ]
    }
   ],
   "source": [
    "from su.aes import encrypt, decrypt\n",
    "\n",
    "input_text = \"nihao\"\n",
    "secret_key = \"my_sec_key\"\n",
    "\n",
    "encrypted = encrypt(secret_key, input_text)\n",
    "decrypted = decrypt(secret_key, encrypted)\n",
    "try:\n",
    " assert decrypted == input_text\n",
    " print(\"chocolate\")\n",
    "except:\n",
    " print(\"No chocolate\")   "
   ]
  },
  {
   "cell_type": "code",
   "execution_count": 230,
   "id": "executive-innocent",
   "metadata": {},
   "outputs": [
    {
     "name": "stdout",
     "output_type": "stream",
     "text": [
      "b';\\x89\\x8b^m0\\x11\\xcd0\\xff\\xc6\\xaa (|3'\n",
      "b'Tex MustBe16Byte'\n"
     ]
    }
   ],
   "source": [
    "import pyaes\n",
    "from Crypto.Random import get_random_bytes\n",
    "\n",
    "key = get_random_bytes(16)\n",
    "a=key\n",
    "\n",
    "aes = pyaes.AESModeOfOperationECB(key)\n",
    "plaintext = \"Tex MustBe16Byte\"\n",
    "ciphertext = aes.encrypt(plaintext)\n",
    "# 'L6\\x95\\x85\\xe4\\xd9\\xf1\\x8a\\xfb\\xe5\\x94X\\x80|\\x19\\xc3'\n",
    "print (ciphertext)\n",
    "\n",
    "# Since there is no state stored in this mode of operation, it\n",
    "# is not necessary to create a new aes object for decryption.\n",
    "#aes = pyaes.AESModeOfOperationECB(key)\n",
    "decrypted = aes.decrypt(ciphertext)\n",
    "print(decrypted)\n",
    "\n",
    "# True\n"
   ]
  },
  {
   "cell_type": "code",
   "execution_count": 231,
   "id": "bulgarian-craft",
   "metadata": {},
   "outputs": [
    {
     "name": "stdout",
     "output_type": "stream",
     "text": [
      "b'\\xc7\\x0c\\xf1\\xb45\\xf8Fk\\xc1\\xca\\x8a\\x0b\\xf1bF\\xc8\\x15\\\\_\\xe3\\xa8\\xc6P\\xab&\\xad\\x1b\\x18\\xdbH?\\n\\xc8\"\\xf1(\\x81qv\\xed\\xa1s\\xa2\\x90v\\xa5I\\x1aMW\\x93\\xa8\\x7f\\x95U\\xf0\\xfa@\\xab\\xed{_\\xbb\\xe0\\x8c\\x135\\xd1\\xc8\\x94\\xb7\\xb6\\xd6\\xb74\\xacJ'\n",
      "Text may be any length you wish, no padding is required. Aba chapa kiri kriri\n"
     ]
    }
   ],
   "source": [
    "import pyaes\n",
    "from Crypto.Random import get_random_bytes\n",
    "\n",
    "key = get_random_bytes(16)\n",
    "aes = pyaes.AESModeOfOperationCTR(key)\n",
    "plaintext = \"Text may be any length you wish, no padding is required. Aba chapa kiri kriri\"\n",
    "ciphertext = aes.encrypt(plaintext)\n",
    "\n",
    "# '''\\xb6\\x99\\x10=\\xa4\\x96\\x88\\xd1\\x89\\x1co\\xe6\\x1d\\xef;\\x11\\x03\\xe3\\xee\n",
    "#    \\xa9V?wY\\xbfe\\xcdO\\xe3\\xdf\\x9dV\\x19\\xe5\\x8dk\\x9fh\\xb87>\\xdb\\xa3\\xd6\n",
    "#    \\x86\\xf4\\xbd\\xb0\\x97\\xf1\\t\\x02\\xe9 \\xed'''\n",
    "print(ciphertext)\n",
    "\n",
    "# The counter mode of operation maintains state, so decryption requires\n",
    "# a new instance be created\n",
    "aes = pyaes.AESModeOfOperationCTR(key)\n",
    "decrypted = aes.decrypt(ciphertext)\n",
    "print(decrypted.decode(\"utf-8\"))"
   ]
  },
  {
   "cell_type": "code",
   "execution_count": 214,
   "id": "joined-belle",
   "metadata": {},
   "outputs": [
    {
     "name": "stdout",
     "output_type": "stream",
     "text": [
      "(205, 3, 10)\n"
     ]
    }
   ],
   "source": [
    "import gc\n",
    "\n",
    "print(gc.get_count())"
   ]
  },
  {
   "cell_type": "code",
   "execution_count": 22,
   "id": "square-momentum",
   "metadata": {},
   "outputs": [
    {
     "name": "stdout",
     "output_type": "stream",
     "text": [
      "{'a1': b'athma',\n",
      " 'a2': b' is dangerous',\n",
      " 'a3': b' Buushmanda',\n",
      " 'gudkara': {'b1': b' baala',\n",
      "             'b2': b' sdsdsd',\n",
      "             'b3': {'c1': 'Beera',\n",
      "                    'c2': 'jeera',\n",
      "                    'c3': {'d1': 'pqowu', 'd2': {'ssss': 'voracious'}}}}}\n"
     ]
    }
   ],
   "source": [
    "from nested_dictionaries import NestedDictionaries as nd\n",
    "from pprint import pprint\n",
    "\n",
    "def dec(nested_dictionary):\n",
    "    rr=nd()\n",
    "    for key,value in nested_dictionary.items():\n",
    "     try:\n",
    "      rr[key]=(value) \n",
    "     except:\n",
    "       for key2 in value:\n",
    "        rr[key][key2]=(value[key2])\n",
    "\n",
    "    return(rr) \n",
    "\n",
    "nested_dictionary = {\"a1\":\"athma\".encode(\"utf-8\"),\"a2\":\" is dangerous\".encode(\"utf-8\"),\"a3\":\" Buushmanda\".encode(\"utf-8\"),\n",
    "                    \"gudkara\":{\"b1\":\" baala\".encode(\"utf-8\"),\"b2\":\" sdsdsd\".encode(\"utf-8\"),\"b3\":{\n",
    "                        \"c1\":\"Beera\",\"c2\":\"jeera\",\"c3\":{\"d1\":\"pqowu\",\"d2\":{\"ssss\":\"voracious\"}}\n",
    "                    }}}\n",
    "a=dec(nested_dictionary)\n",
    "pprint(a)"
   ]
  },
  {
   "cell_type": "code",
   "execution_count": 17,
   "id": "acceptable-south",
   "metadata": {},
   "outputs": [
    {
     "name": "stdout",
     "output_type": "stream",
     "text": [
      "{'apple': {'naba': {'kata': 'asdsd'}}}\n"
     ]
    }
   ],
   "source": [
    "from nested_dictionaries import NestedDictionaries as nd\n",
    "a=nd()\n",
    "a[\"apple\"][\"naba\"]={\"kata\":\"asdsd\"}\n",
    "print(a)"
   ]
  },
  {
   "cell_type": "code",
   "execution_count": null,
   "id": "considerable-celebrity",
   "metadata": {},
   "outputs": [],
   "source": [
    "def gav(nested_dictionary): #concates all the values in a two nested dictionary\n",
    "  a=b\"\"\n",
    "  b=nd()\n",
    "  for key, value in nested_dictionary.items():\n",
    "    try:\n",
    "     a=a+value  \n",
    "     b[key]=value\n",
    "    except:\n",
    "     try:   \n",
    "      for key2 in value:\n",
    "       a=a+value[key2]\n",
    "       b[key1][key2]=value[key2]\n",
    "     except:\n",
    "      for key3 in value[key2]:\n",
    "        a=a+value[key2][key3]\n",
    "        b[key1][key2][key3]=value[key2][key3]\n",
    "        \n",
    "    \n",
    "    \n",
    "  return(a) \n",
    "nested_dictionary = {\"a1\":\"athma\".encode(\"utf-8\"),\"a2\":\" is dangerous\".encode(\"utf-8\"),\"a3\":\" Buushmanda\".encode(\"utf-8\"),\n",
    "                    \"gudkara\":{\"b1\":\" baala\".encode(\"utf-8\"),\"b2\":\" sdsdsd\".encode(\"utf-8\"),\"b3\":{\n",
    "                        \"c1\":\"Beera\",\"c2\":\"jeera\",\"c3\":{\"d1\":\"pqowu\",\"d2\":{\"ssss\":\"voracious\"}}\n",
    "                    }}}\n",
    "\n",
    "\n",
    "\n",
    "\n"
   ]
  }
 ],
 "metadata": {
  "kernelspec": {
   "display_name": "Python 3",
   "language": "python",
   "name": "python3"
  },
  "language_info": {
   "codemirror_mode": {
    "name": "ipython",
    "version": 3
   },
   "file_extension": ".py",
   "mimetype": "text/x-python",
   "name": "python",
   "nbconvert_exporter": "python",
   "pygments_lexer": "ipython3",
   "version": "3.7.0"
  }
 },
 "nbformat": 4,
 "nbformat_minor": 5
}
